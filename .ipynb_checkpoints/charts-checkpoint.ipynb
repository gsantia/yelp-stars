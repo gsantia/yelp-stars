{
 "cells": [
  {
   "cell_type": "code",
   "execution_count": 1,
   "metadata": {
    "collapsed": true
   },
   "outputs": [],
   "source": [
    "import json, re\n",
    "from collections import Counter, defaultdict\n",
    "import numpy as np\n",
    "import pandas as pd\n",
    "import matplotlib.pyplot as plt\n",
    "import matplotlib\n",
    "import random as ra\n",
    "%matplotlib inline"
   ]
  },
  {
   "cell_type": "code",
   "execution_count": 2,
   "metadata": {},
   "outputs": [
    {
     "data": {
      "image/png": "[encoded data removed]",
      "text/plain": [
       "<matplotlib.figure.Figure at 0x105a59c18>"
      ]
     },
     "metadata": {},
     "output_type": "display_data"
    }
   ],
   "source": [
    "def load_data():\n",
    "    \"\"\"loads the multi-line JSON file for initial analysis\"\"\"\n",
    "    data = []\n",
    "    with open('../dataset/review.json', 'r') as f:\n",
    "        for line in f:\n",
    "            data.append(json.loads(line))\n",
    "    return data\n",
    "\n",
    "ALL_DATA = load_data()\n",
    "NUM_REVIEWS = len(ALL_DATA)\n",
    "\n",
    "def stars_plot(data:list):\n",
    "    \"\"\"create a simple histogram showing the distribution of the # of\n",
    "    stars amongst the reviews, probably can use in paper. for now just\n",
    "    do a random 10% sample of the data.\"\"\"\n",
    "    sample = ra.sample(data, int(NUM_REVIEWS / 10))\n",
    "    stars = []\n",
    "    for review in sample:\n",
    "        stars.append(review['stars'])\n",
    "    plt.hist(stars)\n",
    "    plt.show()\n",
    "\n",
    "ra.seed(0)   #make sure we get the same random samples each time!\n",
    "stars_plot(ALL_DATA)"
   ]
  },
  {
   "cell_type": "markdown",
   "metadata": {
    "collapsed": true
   },
   "source": [
    "## EDA on 10% sample\n",
    "So clearly this dataset is yuuuuuge, there's no way we can work with all of it in a timely fashion. \n",
    "Just for initial EDA, let's create a fully-featured DataFrame with a random 10% sampling of the reviews.\n",
    "Then we can try to find some patterns and also pickle it for easy access later."
   ]
  },
  {
   "cell_type": "code",
   "execution_count": 3,
   "metadata": {
    "collapsed": true
   },
   "outputs": [],
   "source": [
    "def sample_dataframe(data:list):\n",
    "    \"\"\"create a DataFrame with all features from random 10% sample of the data\"\"\"\n",
    "    SAMPLE_SIZE = int(NUM_REVIEWS / 10)\n",
    "    DATA_SAMPLE = ra.sample(data, SAMPLE_SIZE)\n",
    "    DATA_DICT = {#'business_id' : [None] * SAMPLE_SIZE,\n",
    "                 #'cool' : np.zeros(SAMPLE_SIZE, dtype = np.uint16),\n",
    "                 'date' : [None] * SAMPLE_SIZE,\n",
    "                 #'funny' : np.zeros(SAMPLE_SIZE, dtype = np.uint16),\n",
    "                 'review_id' : [None] * SAMPLE_SIZE,\n",
    "                 'stars' : np.zeros(SAMPLE_SIZE, dtype = np.uint8),\n",
    "                 'text' : [None] * SAMPLE_SIZE,\n",
    "                 #'useful' : np.zeros(SAMPLE_SIZE, dtype = np.uint16),\n",
    "                 'user_id' : [None] * SAMPLE_SIZE}\n",
    "    for i, review in enumerate(DATA_SAMPLE):\n",
    "        #do some minimal processing of the text here, replace \\n with ' '\n",
    "        p = re.compile(r'\\n+')\n",
    "        review['text'] = re.sub(p, ' ', review['text'].strip())\n",
    "        #now put them in the DICT\n",
    "        for key in DATA_DICT.keys():\n",
    "            DATA_DICT[key][i] = review[key]\n",
    "    #now put into DataFrame\n",
    "    df = pd.DataFrame(DATA_DICT)\n",
    "    return df\n",
    "\n",
    "df = sample_dataframe(ALL_DATA)"
   ]
  },
  {
   "cell_type": "code",
   "execution_count": 4,
   "metadata": {},
   "outputs": [
    {
     "data": {
      "text/html": [
       "<div>\n",
       "<style scoped>\n",
       "    .dataframe tbody tr th:only-of-type {\n",
       "        vertical-align: middle;\n",
       "    }\n",
       "\n",
       "    .dataframe tbody tr th {\n",
       "        vertical-align: top;\n",
       "    }\n",
       "\n",
       "    .dataframe thead th {\n",
       "        text-align: right;\n",
       "    }\n",
       "</style>\n",
       "<table border=\"1\" class=\"dataframe\">\n",
       "  <thead>\n",
       "    <tr style=\"text-align: right;\">\n",
       "      <th></th>\n",
       "      <th>stars</th>\n",
       "    </tr>\n",
       "  </thead>\n",
       "  <tbody>\n",
       "    <tr>\n",
       "      <th>count</th>\n",
       "      <td>473689.000000</td>\n",
       "    </tr>\n",
       "    <tr>\n",
       "      <th>mean</th>\n",
       "      <td>3.724969</td>\n",
       "    </tr>\n",
       "    <tr>\n",
       "      <th>std</th>\n",
       "      <td>1.421397</td>\n",
       "    </tr>\n",
       "    <tr>\n",
       "      <th>min</th>\n",
       "      <td>1.000000</td>\n",
       "    </tr>\n",
       "    <tr>\n",
       "      <th>25%</th>\n",
       "      <td>3.000000</td>\n",
       "    </tr>\n",
       "    <tr>\n",
       "      <th>50%</th>\n",
       "      <td>4.000000</td>\n",
       "    </tr>\n",
       "    <tr>\n",
       "      <th>75%</th>\n",
       "      <td>5.000000</td>\n",
       "    </tr>\n",
       "    <tr>\n",
       "      <th>max</th>\n",
       "      <td>5.000000</td>\n",
       "    </tr>\n",
       "  </tbody>\n",
       "</table>\n",
       "</div>"
      ],
      "text/plain": [
       "               stars\n",
       "count  473689.000000\n",
       "mean        3.724969\n",
       "std         1.421397\n",
       "min         1.000000\n",
       "25%         3.000000\n",
       "50%         4.000000\n",
       "75%         5.000000\n",
       "max         5.000000"
      ]
     },
     "execution_count": 4,
     "metadata": {},
     "output_type": "execute_result"
    }
   ],
   "source": [
    "df.describe()"
   ]
  },
  {
   "cell_type": "markdown",
   "metadata": {},
   "source": [
    "So we have 473,689 reviews total. This is a lot to work with, even though it's only 10% of the total set. It looks like the star review is definitely not a normal distribution centered at 2.5!"
   ]
  },
  {
   "cell_type": "code",
   "execution_count": 5,
   "metadata": {},
   "outputs": [
    {
     "data": {
      "text/html": [
       "<div>\n",
       "<style scoped>\n",
       "    .dataframe tbody tr th:only-of-type {\n",
       "        vertical-align: middle;\n",
       "    }\n",
       "\n",
       "    .dataframe tbody tr th {\n",
       "        vertical-align: top;\n",
       "    }\n",
       "\n",
       "    .dataframe thead th {\n",
       "        text-align: right;\n",
       "    }\n",
       "</style>\n",
       "<table border=\"1\" class=\"dataframe\">\n",
       "  <thead>\n",
       "    <tr style=\"text-align: right;\">\n",
       "      <th></th>\n",
       "      <th>date</th>\n",
       "      <th>review_id</th>\n",
       "      <th>stars</th>\n",
       "      <th>text</th>\n",
       "      <th>user_id</th>\n",
       "    </tr>\n",
       "  </thead>\n",
       "  <tbody>\n",
       "    <tr>\n",
       "      <th>280831</th>\n",
       "      <td>2015-07-20</td>\n",
       "      <td>VV9pwZrljVMn66nitbOLyw</td>\n",
       "      <td>1</td>\n",
       "      <td>We were just in taco mac and the waitress was ...</td>\n",
       "      <td>4s9M4pttOEZqX7-rJwhd6A</td>\n",
       "    </tr>\n",
       "    <tr>\n",
       "      <th>451766</th>\n",
       "      <td>2017-04-01</td>\n",
       "      <td>Kx8mbf80lUF4DZmmRUD-YA</td>\n",
       "      <td>1</td>\n",
       "      <td>Just because my friend is on the \"big\" side, d...</td>\n",
       "      <td>7sk57VwDfUh38jbYepr7zQ</td>\n",
       "    </tr>\n",
       "    <tr>\n",
       "      <th>380958</th>\n",
       "      <td>2017-03-12</td>\n",
       "      <td>1UunXGtnG_nqUaxDJqapyA</td>\n",
       "      <td>1</td>\n",
       "      <td>Worse Robertos EVER!! Every time I come here t...</td>\n",
       "      <td>i1JYuFbZkYJHDmntXehniA</td>\n",
       "    </tr>\n",
       "    <tr>\n",
       "      <th>52295</th>\n",
       "      <td>2016-02-17</td>\n",
       "      <td>BireksC0veDg3z38vo1rYg</td>\n",
       "      <td>1</td>\n",
       "      <td>HORRIBLE experience. We waited 45 minutes and ...</td>\n",
       "      <td>Dfeuz4sVWptQOicV8MGc9g</td>\n",
       "    </tr>\n",
       "    <tr>\n",
       "      <th>364012</th>\n",
       "      <td>2016-05-25</td>\n",
       "      <td>uP37wq70BJj5xIzPe-zfQQ</td>\n",
       "      <td>1</td>\n",
       "      <td>If I wrote this review last August/September w...</td>\n",
       "      <td>oK_KelGzfdn0b02-MGk-Xg</td>\n",
       "    </tr>\n",
       "  </tbody>\n",
       "</table>\n",
       "</div>"
      ],
      "text/plain": [
       "              date               review_id  stars  \\\n",
       "280831  2015-07-20  VV9pwZrljVMn66nitbOLyw      1   \n",
       "451766  2017-04-01  Kx8mbf80lUF4DZmmRUD-YA      1   \n",
       "380958  2017-03-12  1UunXGtnG_nqUaxDJqapyA      1   \n",
       "52295   2016-02-17  BireksC0veDg3z38vo1rYg      1   \n",
       "364012  2016-05-25  uP37wq70BJj5xIzPe-zfQQ      1   \n",
       "\n",
       "                                                     text  \\\n",
       "280831  We were just in taco mac and the waitress was ...   \n",
       "451766  Just because my friend is on the \"big\" side, d...   \n",
       "380958  Worse Robertos EVER!! Every time I come here t...   \n",
       "52295   HORRIBLE experience. We waited 45 minutes and ...   \n",
       "364012  If I wrote this review last August/September w...   \n",
       "\n",
       "                       user_id  \n",
       "280831  4s9M4pttOEZqX7-rJwhd6A  \n",
       "451766  7sk57VwDfUh38jbYepr7zQ  \n",
       "380958  i1JYuFbZkYJHDmntXehniA  \n",
       "52295   Dfeuz4sVWptQOicV8MGc9g  \n",
       "364012  oK_KelGzfdn0b02-MGk-Xg  "
      ]
     },
     "execution_count": 5,
     "metadata": {},
     "output_type": "execute_result"
    }
   ],
   "source": [
    "df.sort_values(by='stars').head()"
   ]
  },
  {
   "cell_type": "code",
   "execution_count": 6,
   "metadata": {},
   "outputs": [
    {
     "data": {
      "text/plain": [
       "(array([8.4000e+02, 1.3303e+04, 3.4832e+04, 3.7011e+04, 3.6727e+04,\n",
       "        3.4337e+04, 3.1185e+04, 2.8190e+04, 2.5359e+04, 2.2846e+04,\n",
       "        1.9943e+04, 1.8090e+04, 1.6147e+04, 1.4115e+04, 1.2866e+04,\n",
       "        1.1702e+04, 1.0573e+04, 9.5730e+03, 8.6750e+03, 7.9090e+03,\n",
       "        6.9870e+03, 6.2570e+03, 5.7000e+03, 5.1600e+03, 4.6060e+03,\n",
       "        4.2330e+03, 3.6500e+03, 3.5100e+03, 3.0140e+03, 2.8860e+03,\n",
       "        2.5780e+03, 2.4740e+03, 2.2410e+03, 2.0070e+03, 1.7310e+03,\n",
       "        1.6430e+03, 1.5640e+03, 1.3510e+03, 1.2440e+03, 1.1780e+03,\n",
       "        1.0900e+03, 1.0090e+03, 8.7500e+02, 8.6300e+02, 8.0200e+02,\n",
       "        7.4600e+02, 7.0900e+02, 5.6200e+02, 5.7200e+02, 5.3400e+02,\n",
       "        4.8700e+02, 4.6900e+02, 4.0500e+02, 3.7200e+02, 3.9100e+02,\n",
       "        3.4400e+02, 2.8800e+02, 3.0100e+02, 2.6200e+02, 2.6000e+02,\n",
       "        2.4800e+02, 2.3800e+02, 2.0600e+02, 1.7900e+02, 1.9400e+02,\n",
       "        1.6700e+02, 1.5600e+02, 1.3700e+02, 1.4200e+02, 1.4800e+02,\n",
       "        1.3500e+02, 1.3300e+02, 1.1400e+02, 9.3000e+01, 9.1000e+01,\n",
       "        8.8000e+01, 9.5000e+01, 7.6000e+01, 6.3000e+01, 7.5000e+01,\n",
       "        8.0000e+01, 5.3000e+01, 7.3000e+01, 6.9000e+01, 6.5000e+01,\n",
       "        6.0000e+01, 5.2000e+01, 5.1000e+01, 4.4000e+01, 4.7000e+01,\n",
       "        3.3000e+01, 4.8000e+01, 3.8000e+01, 3.8000e+01, 3.3000e+01,\n",
       "        3.7000e+01, 4.8000e+01, 6.3000e+01, 1.1900e+02, 2.8200e+02]),\n",
       " array([1.00000e+00, 5.09900e+01, 1.00980e+02, 1.50970e+02, 2.00960e+02,\n",
       "        2.50950e+02, 3.00940e+02, 3.50930e+02, 4.00920e+02, 4.50910e+02,\n",
       "        5.00900e+02, 5.50890e+02, 6.00880e+02, 6.50870e+02, 7.00860e+02,\n",
       "        7.50850e+02, 8.00840e+02, 8.50830e+02, 9.00820e+02, 9.50810e+02,\n",
       "        1.00080e+03, 1.05079e+03, 1.10078e+03, 1.15077e+03, 1.20076e+03,\n",
       "        1.25075e+03, 1.30074e+03, 1.35073e+03, 1.40072e+03, 1.45071e+03,\n",
       "        1.50070e+03, 1.55069e+03, 1.60068e+03, 1.65067e+03, 1.70066e+03,\n",
       "        1.75065e+03, 1.80064e+03, 1.85063e+03, 1.90062e+03, 1.95061e+03,\n",
       "        2.00060e+03, 2.05059e+03, 2.10058e+03, 2.15057e+03, 2.20056e+03,\n",
       "        2.25055e+03, 2.30054e+03, 2.35053e+03, 2.40052e+03, 2.45051e+03,\n",
       "        2.50050e+03, 2.55049e+03, 2.60048e+03, 2.65047e+03, 2.70046e+03,\n",
       "        2.75045e+03, 2.80044e+03, 2.85043e+03, 2.90042e+03, 2.95041e+03,\n",
       "        3.00040e+03, 3.05039e+03, 3.10038e+03, 3.15037e+03, 3.20036e+03,\n",
       "        3.25035e+03, 3.30034e+03, 3.35033e+03, 3.40032e+03, 3.45031e+03,\n",
       "        3.50030e+03, 3.55029e+03, 3.60028e+03, 3.65027e+03, 3.70026e+03,\n",
       "        3.75025e+03, 3.80024e+03, 3.85023e+03, 3.90022e+03, 3.95021e+03,\n",
       "        4.00020e+03, 4.05019e+03, 4.10018e+03, 4.15017e+03, 4.20016e+03,\n",
       "        4.25015e+03, 4.30014e+03, 4.35013e+03, 4.40012e+03, 4.45011e+03,\n",
       "        4.50010e+03, 4.55009e+03, 4.60008e+03, 4.65007e+03, 4.70006e+03,\n",
       "        4.75005e+03, 4.80004e+03, 4.85003e+03, 4.90002e+03, 4.95001e+03,\n",
       "        5.00000e+03]),\n",
       " <a list of 100 Patch objects>)"
      ]
     },
     "execution_count": 6,
     "metadata": {},
     "output_type": "execute_result"
    },
    {
     "data": {
      "image/png": "[encoded data removed]",
      "text/plain": [
       "<matplotlib.figure.Figure at 0x10a1db390>"
      ]
     },
     "metadata": {},
     "output_type": "display_data"
    }
   ],
   "source": [
    "#let's look at the distribution of number of chars in each review\n",
    "#using a histogram:\n",
    "review_lengths = [len(review) for review in df['text']]\n",
    "plt.hist(review_lengths, bins = 100)"
   ]
  },
  {
   "cell_type": "markdown",
   "metadata": {},
   "source": [
    "Seems like most of the reviews are quite short, but there are some very long outliers."
   ]
  },
  {
   "cell_type": "markdown",
   "metadata": {},
   "source": [
    "## Test set\n",
    "Before we do analysis, we should set aside a validation set!"
   ]
  },
  {
   "cell_type": "code",
   "execution_count": 7,
   "metadata": {
    "collapsed": true
   },
   "outputs": [],
   "source": [
    "# Let's do 20% for the validation set.\n",
    "#df = pd.read_pickle('sample.pkl')\n",
    "train = df.sample(frac = 0.8, random_state = 200)\n",
    "test = df.drop(train.index)"
   ]
  },
  {
   "cell_type": "markdown",
   "metadata": {},
   "source": [
    "Save this DataFrame for future analysis and easy loading:"
   ]
  },
  {
   "cell_type": "code",
   "execution_count": 8,
   "metadata": {
    "collapsed": true
   },
   "outputs": [],
   "source": [
    "df.to_pickle('sample.pkl')"
   ]
  },
  {
   "cell_type": "markdown",
   "metadata": {
    "collapsed": true
   },
   "source": [
    "# Create more features\n",
    "To make the ml models work better (text is not a numerical feature), let's create some numerical features to work with, based on the review text."
   ]
  },
  {
   "cell_type": "markdown",
   "metadata": {},
   "source": [
    "## Review length\n",
    "Let's add a new column which details the number of characters in the review. I have a feeling that 5 star reviews will be much shorter than 1 or 2 star reviews."
   ]
  },
  {
   "cell_type": "code",
   "execution_count": 9,
   "metadata": {
    "collapsed": true,
    "scrolled": true
   },
   "outputs": [],
   "source": [
    "\n",
    "train['length'] = train.apply(lambda row: len(row['text']), axis = 1)\n",
    "#train['length'] = pd.Series(len(text) for text in train['text'])\n",
    "#train.head(100)"
   ]
  },
  {
   "cell_type": "code",
   "execution_count": 10,
   "metadata": {},
   "outputs": [
    {
     "data": {
      "text/html": [
       "<div>\n",
       "<style scoped>\n",
       "    .dataframe tbody tr th:only-of-type {\n",
       "        vertical-align: middle;\n",
       "    }\n",
       "\n",
       "    .dataframe tbody tr th {\n",
       "        vertical-align: top;\n",
       "    }\n",
       "\n",
       "    .dataframe thead th {\n",
       "        text-align: right;\n",
       "    }\n",
       "</style>\n",
       "<table border=\"1\" class=\"dataframe\">\n",
       "  <thead>\n",
       "    <tr style=\"text-align: right;\">\n",
       "      <th></th>\n",
       "      <th>date</th>\n",
       "      <th>review_id</th>\n",
       "      <th>stars</th>\n",
       "      <th>text</th>\n",
       "      <th>user_id</th>\n",
       "      <th>length</th>\n",
       "    </tr>\n",
       "  </thead>\n",
       "  <tbody>\n",
       "    <tr>\n",
       "      <th>132541</th>\n",
       "      <td>2014-02-23</td>\n",
       "      <td>ZkQg-pHL-sAXvs76wYhlow</td>\n",
       "      <td>3</td>\n",
       "      <td>I had the crab rangoon, cashew chicken, fried ...</td>\n",
       "      <td>JaWyPlPiQajclZbaa19PDg</td>\n",
       "      <td>327</td>\n",
       "    </tr>\n",
       "    <tr>\n",
       "      <th>231497</th>\n",
       "      <td>2015-09-14</td>\n",
       "      <td>yu_MrtWfDNFzoE7PA8wWqQ</td>\n",
       "      <td>4</td>\n",
       "      <td>My husband and I recently used Ms internationa...</td>\n",
       "      <td>ociVXyUzlpNZmnSQGVTStw</td>\n",
       "      <td>483</td>\n",
       "    </tr>\n",
       "    <tr>\n",
       "      <th>43791</th>\n",
       "      <td>2015-11-21</td>\n",
       "      <td>TZegK6Ki_1sdjIffzn6wEQ</td>\n",
       "      <td>5</td>\n",
       "      <td>My husband and I have bought several items now...</td>\n",
       "      <td>Lszxpd9rv1JTuZ2pnxp5CA</td>\n",
       "      <td>743</td>\n",
       "    </tr>\n",
       "    <tr>\n",
       "      <th>16507</th>\n",
       "      <td>2015-09-18</td>\n",
       "      <td>WPwv259u3o5O9rdmL4f0bg</td>\n",
       "      <td>2</td>\n",
       "      <td>I only chose these guys because of the yelp re...</td>\n",
       "      <td>Rf41z3Cc3FGx5Ys3QQq2bw</td>\n",
       "      <td>1412</td>\n",
       "    </tr>\n",
       "    <tr>\n",
       "      <th>357253</th>\n",
       "      <td>2015-04-03</td>\n",
       "      <td>3i9THxwPxTvKfVgKFYBBzA</td>\n",
       "      <td>1</td>\n",
       "      <td>Don't go see this doctor. Seriously, find some...</td>\n",
       "      <td>o_d1YWq7qqQ2PSdofCMykw</td>\n",
       "      <td>233</td>\n",
       "    </tr>\n",
       "  </tbody>\n",
       "</table>\n",
       "</div>"
      ],
      "text/plain": [
       "              date               review_id  stars  \\\n",
       "132541  2014-02-23  ZkQg-pHL-sAXvs76wYhlow      3   \n",
       "231497  2015-09-14  yu_MrtWfDNFzoE7PA8wWqQ      4   \n",
       "43791   2015-11-21  TZegK6Ki_1sdjIffzn6wEQ      5   \n",
       "16507   2015-09-18  WPwv259u3o5O9rdmL4f0bg      2   \n",
       "357253  2015-04-03  3i9THxwPxTvKfVgKFYBBzA      1   \n",
       "\n",
       "                                                     text  \\\n",
       "132541  I had the crab rangoon, cashew chicken, fried ...   \n",
       "231497  My husband and I recently used Ms internationa...   \n",
       "43791   My husband and I have bought several items now...   \n",
       "16507   I only chose these guys because of the yelp re...   \n",
       "357253  Don't go see this doctor. Seriously, find some...   \n",
       "\n",
       "                       user_id  length  \n",
       "132541  JaWyPlPiQajclZbaa19PDg     327  \n",
       "231497  ociVXyUzlpNZmnSQGVTStw     483  \n",
       "43791   Lszxpd9rv1JTuZ2pnxp5CA     743  \n",
       "16507   Rf41z3Cc3FGx5Ys3QQq2bw    1412  \n",
       "357253  o_d1YWq7qqQ2PSdofCMykw     233  "
      ]
     },
     "execution_count": 10,
     "metadata": {},
     "output_type": "execute_result"
    }
   ],
   "source": [
    "train.head()"
   ]
  },
  {
   "cell_type": "code",
   "execution_count": 11,
   "metadata": {},
   "outputs": [
    {
     "data": {
      "text/plain": [
       "483"
      ]
     },
     "execution_count": 11,
     "metadata": {},
     "output_type": "execute_result"
    }
   ],
   "source": [
    "len(train['text'][231497])"
   ]
  },
  {
   "cell_type": "code",
   "execution_count": 12,
   "metadata": {},
   "outputs": [
    {
     "data": {
      "text/html": [
       "<div>\n",
       "<style scoped>\n",
       "    .dataframe tbody tr th:only-of-type {\n",
       "        vertical-align: middle;\n",
       "    }\n",
       "\n",
       "    .dataframe tbody tr th {\n",
       "        vertical-align: top;\n",
       "    }\n",
       "\n",
       "    .dataframe thead th {\n",
       "        text-align: right;\n",
       "    }\n",
       "</style>\n",
       "<table border=\"1\" class=\"dataframe\">\n",
       "  <thead>\n",
       "    <tr style=\"text-align: right;\">\n",
       "      <th></th>\n",
       "      <th>length</th>\n",
       "    </tr>\n",
       "    <tr>\n",
       "      <th>stars</th>\n",
       "      <th></th>\n",
       "    </tr>\n",
       "  </thead>\n",
       "  <tbody>\n",
       "    <tr>\n",
       "      <th>1</th>\n",
       "      <td>761.024385</td>\n",
       "    </tr>\n",
       "    <tr>\n",
       "      <th>2</th>\n",
       "      <td>770.407477</td>\n",
       "    </tr>\n",
       "    <tr>\n",
       "      <th>3</th>\n",
       "      <td>723.055255</td>\n",
       "    </tr>\n",
       "    <tr>\n",
       "      <th>4</th>\n",
       "      <td>637.746120</td>\n",
       "    </tr>\n",
       "    <tr>\n",
       "      <th>5</th>\n",
       "      <td>500.699834</td>\n",
       "    </tr>\n",
       "  </tbody>\n",
       "</table>\n",
       "</div>"
      ],
      "text/plain": [
       "           length\n",
       "stars            \n",
       "1      761.024385\n",
       "2      770.407477\n",
       "3      723.055255\n",
       "4      637.746120\n",
       "5      500.699834"
      ]
     },
     "execution_count": 12,
     "metadata": {},
     "output_type": "execute_result"
    }
   ],
   "source": [
    "train.groupby('stars').mean()"
   ]
  },
  {
   "cell_type": "markdown",
   "metadata": {},
   "source": [
    "This actually looks quite significant! We know that there are far more 5-star reviews than any other rating, but\n",
    "we still have drastically shorter comments for them all around. It looks like comment length is a promising feature."
   ]
  },
  {
   "cell_type": "markdown",
   "metadata": {},
   "source": [
    "## Positive (or negative?) words\n",
    "Let's look for the most common words in each of the 5 categories that aren't also present in the other 4 categories."
   ]
  },
  {
   "cell_type": "code",
   "execution_count": 14,
   "metadata": {
    "collapsed": true
   },
   "outputs": [],
   "source": [
    "# Let's make lists of all the text for each star category\n",
    "\n",
    "from nltk.tokenize import RegexpTokenizer\n",
    "\n",
    "tokenizer = RegexpTokenizer(r'\\w+')\n",
    "\n",
    "text_by_stars = list(train.groupby('stars')['text'])\n",
    "one_star_text = ' '.join(list(text_by_stars[0][1])).lower()\n",
    "two_star_text = ' '.join(list(text_by_stars[1][1])).lower()\n",
    "three_star_text = ' '.join(list(text_by_stars[2][1])).lower()\n",
    "four_star_text = ' '.join(list(text_by_stars[3][1])).lower()\n",
    "five_star_text = ' '.join(list(text_by_stars[4][1])).lower()\n",
    "    "
   ]
  },
  {
   "cell_type": "code",
   "execution_count": 15,
   "metadata": {},
   "outputs": [
    {
     "data": {
      "text/plain": [
       "38998883"
      ]
     },
     "execution_count": 15,
     "metadata": {},
     "output_type": "execute_result"
    }
   ],
   "source": [
    "len(one_star_text)"
   ]
  },
  {
   "cell_type": "code",
   "execution_count": 16,
   "metadata": {
    "collapsed": true
   },
   "outputs": [],
   "source": [
    "one_counts = Counter(tokenizer.tokenize(one_star_text))\n",
    "two_counts = Counter(tokenizer.tokenize(two_star_text))\n",
    "three_counts = Counter(tokenizer.tokenize(three_star_text))\n",
    "four_counts = Counter(tokenizer.tokenize(four_star_text))\n",
    "five_counts = Counter(tokenizer.tokenize(five_star_text))"
   ]
  },
  {
   "cell_type": "markdown",
   "metadata": {},
   "source": [
    "Let's try looking for words that appear a lot for 1 star reviews but none of the others? Let's see what happens:"
   ]
  },
  {
   "cell_type": "code",
   "execution_count": 17,
   "metadata": {},
   "outputs": [
    {
     "data": {
      "text/plain": [
       "['call',\n",
       " 'worst',\n",
       " 'rude',\n",
       " 'business',\n",
       " 'horrible',\n",
       " 'phone',\n",
       " 'company',\n",
       " 'later',\n",
       " 'tell',\n",
       " 'terrible',\n",
       " 'customers',\n",
       " 'hours',\n",
       " 'waited',\n",
       " 'walked',\n",
       " 'guy',\n",
       " 'person',\n",
       " 'paid',\n",
       " 'use',\n",
       " 'until',\n",
       " 'wrong',\n",
       " 'couldn',\n",
       " 'stay',\n",
       " 'days',\n",
       " 'without',\n",
       " 'reviews',\n",
       " 'today',\n",
       " 'help',\n",
       " 'leave',\n",
       " 'star',\n",
       " 'office',\n",
       " 'trying',\n",
       " 'door',\n",
       " '6',\n",
       " 'charge',\n",
       " 'instead',\n",
       " 'appointment',\n",
       " 'bill',\n",
       " 'point']"
      ]
     },
     "execution_count": 17,
     "metadata": {},
     "output_type": "execute_result"
    }
   ],
   "source": [
    "one_interesting = []\n",
    "DEPTH = 300\n",
    "for word, num in one_counts.most_common(DEPTH):\n",
    "    if word in [word_ for word_, num_ in two_counts.most_common(DEPTH)]:\n",
    "        continue\n",
    "    elif word in [word_ for word_, num_ in three_counts.most_common(DEPTH)]:\n",
    "        continue\n",
    "    elif word in [word_ for word_, num_ in four_counts.most_common(DEPTH)]:\n",
    "        continue\n",
    "    elif word in [word_ for word_, num_ in five_counts.most_common(DEPTH)]:\n",
    "        continue\n",
    "    else:  # a word of interest\n",
    "        one_interesting.append(word)\n",
    "    \n",
    "one_interesting"
   ]
  },
  {
   "cell_type": "markdown",
   "metadata": {},
   "source": [
    "Now let's try the same thing for 5-star reviews:"
   ]
  },
  {
   "cell_type": "code",
   "execution_count": 18,
   "metadata": {},
   "outputs": [
    {
     "data": {
      "text/plain": [
       "['highly',\n",
       " 'family',\n",
       " 'everyone',\n",
       " 'job',\n",
       " 'wonderful',\n",
       " 'fantastic',\n",
       " 'helpful',\n",
       " 'thank',\n",
       " 'coming',\n",
       " 'professional',\n",
       " 'house',\n",
       " 'shop',\n",
       " 'absolutely',\n",
       " 'town',\n",
       " 'such',\n",
       " 'must',\n",
       " 'far',\n",
       " 'dr',\n",
       " 'able',\n",
       " 'guys',\n",
       " 'beautiful',\n",
       " 'husband']"
      ]
     },
     "execution_count": 18,
     "metadata": {},
     "output_type": "execute_result"
    }
   ],
   "source": [
    "five_interesting = []\n",
    "DEPTH = 300\n",
    "for word, num in five_counts.most_common(DEPTH):\n",
    "    if word in [word_ for word_, num_ in two_counts.most_common(DEPTH)]:\n",
    "        continue\n",
    "    elif word in [word_ for word_, num_ in three_counts.most_common(DEPTH)]:\n",
    "        continue\n",
    "    elif word in [word_ for word_, num_ in four_counts.most_common(DEPTH)]:\n",
    "        continue\n",
    "    elif word in [word_ for word_, num_ in one_counts.most_common(DEPTH)]:\n",
    "        continue\n",
    "    else:  # a word of interest\n",
    "        five_interesting.append(word)\n",
    "    \n",
    "five_interesting"
   ]
  },
  {
   "cell_type": "markdown",
   "metadata": {},
   "source": [
    "This looks promising. Let's do the rest of the ratings:"
   ]
  },
  {
   "cell_type": "code",
   "execution_count": 19,
   "metadata": {},
   "outputs": [
    {
     "data": {
      "text/plain": [
       "['bland', 'dry', 'almost']"
      ]
     },
     "execution_count": 19,
     "metadata": {},
     "output_type": "execute_result"
    }
   ],
   "source": [
    "two_interesting = []\n",
    "DEPTH = 300\n",
    "for word, num in two_counts.most_common(DEPTH):\n",
    "    if word in [word_ for word_, num_ in five_counts.most_common(DEPTH)]:\n",
    "        continue\n",
    "    elif word in [word_ for word_, num_ in three_counts.most_common(DEPTH)]:\n",
    "        continue\n",
    "    elif word in [word_ for word_, num_ in four_counts.most_common(DEPTH)]:\n",
    "        continue\n",
    "    elif word in [word_ for word_, num_ in one_counts.most_common(DEPTH)]:\n",
    "        continue\n",
    "    else:  # a word of interest\n",
    "        two_interesting.append(word)\n",
    "    \n",
    "two_interesting"
   ]
  },
  {
   "cell_type": "code",
   "execution_count": 20,
   "metadata": {},
   "outputs": [
    {
     "data": {
      "text/plain": [
       "['average', 'three']"
      ]
     },
     "execution_count": 20,
     "metadata": {},
     "output_type": "execute_result"
    }
   ],
   "source": [
    "three_interesting = []\n",
    "DEPTH = 300\n",
    "for word, num in three_counts.most_common(DEPTH):\n",
    "    if word in [word_ for word_, num_ in five_counts.most_common(DEPTH)]:\n",
    "        continue\n",
    "    elif word in [word_ for word_, num_ in two_counts.most_common(DEPTH)]:\n",
    "        continue\n",
    "    elif word in [word_ for word_, num_ in four_counts.most_common(DEPTH)]:\n",
    "        continue\n",
    "    elif word in [word_ for word_, num_ in one_counts.most_common(DEPTH)]:\n",
    "        continue\n",
    "    else:  # a word of interest\n",
    "        three_interesting.append(word)\n",
    "    \n",
    "three_interesting"
   ]
  },
  {
   "cell_type": "code",
   "execution_count": 21,
   "metadata": {},
   "outputs": [
    {
     "data": {
      "text/plain": [
       "['enjoyed',\n",
       " 'spicy',\n",
       " 'cream',\n",
       " 'usually',\n",
       " 'strip',\n",
       " 'cool',\n",
       " 'parking',\n",
       " 'enjoy',\n",
       " 'during']"
      ]
     },
     "execution_count": 21,
     "metadata": {},
     "output_type": "execute_result"
    }
   ],
   "source": [
    "four_interesting = []\n",
    "DEPTH = 300\n",
    "for word, num in four_counts.most_common(DEPTH):\n",
    "    if word in [word_ for word_, num_ in five_counts.most_common(DEPTH)]:\n",
    "        continue\n",
    "    elif word in [word_ for word_, num_ in two_counts.most_common(DEPTH)]:\n",
    "        continue\n",
    "    elif word in [word_ for word_, num_ in three_counts.most_common(DEPTH)]:\n",
    "        continue\n",
    "    elif word in [word_ for word_, num_ in one_counts.most_common(DEPTH)]:\n",
    "        continue\n",
    "    else:  # a word of interest\n",
    "        four_interesting.append(word)\n",
    "    \n",
    "four_interesting"
   ]
  },
  {
   "cell_type": "markdown",
   "metadata": {
    "collapsed": true
   },
   "source": [
    "We have a good idea of what's going to happen, but let's try seeing the number of times the \"one_counts\" words show up for all the categories:"
   ]
  },
  {
   "cell_type": "code",
   "execution_count": 22,
   "metadata": {},
   "outputs": [
    {
     "name": "stdout",
     "output_type": "stream",
     "text": [
      "0.022426432282970227 0.01320057116032443 0.009248253675869284 0.007706177603526528 0.00939447928868964\n"
     ]
    }
   ],
   "source": [
    "low_one, low_two, low_three, low_four, low_five = 0, 0, 0, 0, 0\n",
    "for word in one_interesting:\n",
    "    low_one += one_counts[word]\n",
    "    low_two += two_counts[word]\n",
    "    low_three += three_counts[word]\n",
    "    low_four += four_counts[word]\n",
    "    low_five += five_counts[word]\n",
    "    \n",
    "print(low_one / sum(one_counts.values()), \n",
    "      low_two / sum(two_counts.values()),\n",
    "      low_three / sum(three_counts.values()),\n",
    "      low_four / sum(four_counts.values()),\n",
    "      low_five / sum(five_counts.values()))"
   ]
  },
  {
   "cell_type": "markdown",
   "metadata": {},
   "source": [
    "Since there are so many more 5-star reviews than the others, I think we need to normalize these results.\n",
    "\n",
    "Ok, so after normalizing, the results are as we expected. Now we can assign each record an additional 5 features, one counting the occurence rate of these \"interesting words\""
   ]
  },
  {
   "cell_type": "code",
   "execution_count": 23,
   "metadata": {
    "collapsed": true
   },
   "outputs": [],
   "source": [
    "INTERESTING_WORDS = {'one' : one_interesting,\n",
    "                     'two' : two_interesting,\n",
    "                     'three' : three_interesting,\n",
    "                     'four' : four_interesting,\n",
    "                     'five' : five_interesting}\n",
    "\n",
    "def one_interest(row):\n",
    "    text = row['text']\n",
    "    return len([word for word in tokenizer.tokenize(text) if word in one_interesting])\n",
    "\n",
    "train['one_interesting'] = train.apply(lambda row: one_interest(row), axis = 1)"
   ]
  },
  {
   "cell_type": "code",
   "execution_count": 24,
   "metadata": {},
   "outputs": [
    {
     "data": {
      "text/html": [
       "<div>\n",
       "<style scoped>\n",
       "    .dataframe tbody tr th:only-of-type {\n",
       "        vertical-align: middle;\n",
       "    }\n",
       "\n",
       "    .dataframe tbody tr th {\n",
       "        vertical-align: top;\n",
       "    }\n",
       "\n",
       "    .dataframe thead th {\n",
       "        text-align: right;\n",
       "    }\n",
       "</style>\n",
       "<table border=\"1\" class=\"dataframe\">\n",
       "  <thead>\n",
       "    <tr style=\"text-align: right;\">\n",
       "      <th></th>\n",
       "      <th>date</th>\n",
       "      <th>review_id</th>\n",
       "      <th>stars</th>\n",
       "      <th>text</th>\n",
       "      <th>user_id</th>\n",
       "      <th>length</th>\n",
       "      <th>one_interesting</th>\n",
       "    </tr>\n",
       "  </thead>\n",
       "  <tbody>\n",
       "    <tr>\n",
       "      <th>132541</th>\n",
       "      <td>2014-02-23</td>\n",
       "      <td>ZkQg-pHL-sAXvs76wYhlow</td>\n",
       "      <td>3</td>\n",
       "      <td>I had the crab rangoon, cashew chicken, fried ...</td>\n",
       "      <td>JaWyPlPiQajclZbaa19PDg</td>\n",
       "      <td>327</td>\n",
       "      <td>1</td>\n",
       "    </tr>\n",
       "    <tr>\n",
       "      <th>231497</th>\n",
       "      <td>2015-09-14</td>\n",
       "      <td>yu_MrtWfDNFzoE7PA8wWqQ</td>\n",
       "      <td>4</td>\n",
       "      <td>My husband and I recently used Ms internationa...</td>\n",
       "      <td>ociVXyUzlpNZmnSQGVTStw</td>\n",
       "      <td>483</td>\n",
       "      <td>0</td>\n",
       "    </tr>\n",
       "    <tr>\n",
       "      <th>43791</th>\n",
       "      <td>2015-11-21</td>\n",
       "      <td>TZegK6Ki_1sdjIffzn6wEQ</td>\n",
       "      <td>5</td>\n",
       "      <td>My husband and I have bought several items now...</td>\n",
       "      <td>Lszxpd9rv1JTuZ2pnxp5CA</td>\n",
       "      <td>743</td>\n",
       "      <td>1</td>\n",
       "    </tr>\n",
       "    <tr>\n",
       "      <th>16507</th>\n",
       "      <td>2015-09-18</td>\n",
       "      <td>WPwv259u3o5O9rdmL4f0bg</td>\n",
       "      <td>2</td>\n",
       "      <td>I only chose these guys because of the yelp re...</td>\n",
       "      <td>Rf41z3Cc3FGx5Ys3QQq2bw</td>\n",
       "      <td>1412</td>\n",
       "      <td>5</td>\n",
       "    </tr>\n",
       "    <tr>\n",
       "      <th>357253</th>\n",
       "      <td>2015-04-03</td>\n",
       "      <td>3i9THxwPxTvKfVgKFYBBzA</td>\n",
       "      <td>1</td>\n",
       "      <td>Don't go see this doctor. Seriously, find some...</td>\n",
       "      <td>o_d1YWq7qqQ2PSdofCMykw</td>\n",
       "      <td>233</td>\n",
       "      <td>1</td>\n",
       "    </tr>\n",
       "  </tbody>\n",
       "</table>\n",
       "</div>"
      ],
      "text/plain": [
       "              date               review_id  stars  \\\n",
       "132541  2014-02-23  ZkQg-pHL-sAXvs76wYhlow      3   \n",
       "231497  2015-09-14  yu_MrtWfDNFzoE7PA8wWqQ      4   \n",
       "43791   2015-11-21  TZegK6Ki_1sdjIffzn6wEQ      5   \n",
       "16507   2015-09-18  WPwv259u3o5O9rdmL4f0bg      2   \n",
       "357253  2015-04-03  3i9THxwPxTvKfVgKFYBBzA      1   \n",
       "\n",
       "                                                     text  \\\n",
       "132541  I had the crab rangoon, cashew chicken, fried ...   \n",
       "231497  My husband and I recently used Ms internationa...   \n",
       "43791   My husband and I have bought several items now...   \n",
       "16507   I only chose these guys because of the yelp re...   \n",
       "357253  Don't go see this doctor. Seriously, find some...   \n",
       "\n",
       "                       user_id  length  one_interesting  \n",
       "132541  JaWyPlPiQajclZbaa19PDg     327                1  \n",
       "231497  ociVXyUzlpNZmnSQGVTStw     483                0  \n",
       "43791   Lszxpd9rv1JTuZ2pnxp5CA     743                1  \n",
       "16507   Rf41z3Cc3FGx5Ys3QQq2bw    1412                5  \n",
       "357253  o_d1YWq7qqQ2PSdofCMykw     233                1  "
      ]
     },
     "execution_count": 24,
     "metadata": {},
     "output_type": "execute_result"
    }
   ],
   "source": [
    "train.head()"
   ]
  },
  {
   "cell_type": "code",
   "execution_count": 25,
   "metadata": {},
   "outputs": [
    {
     "data": {
      "text/html": [
       "<div>\n",
       "<style scoped>\n",
       "    .dataframe tbody tr th:only-of-type {\n",
       "        vertical-align: middle;\n",
       "    }\n",
       "\n",
       "    .dataframe tbody tr th {\n",
       "        vertical-align: top;\n",
       "    }\n",
       "\n",
       "    .dataframe thead th {\n",
       "        text-align: right;\n",
       "    }\n",
       "</style>\n",
       "<table border=\"1\" class=\"dataframe\">\n",
       "  <thead>\n",
       "    <tr style=\"text-align: right;\">\n",
       "      <th></th>\n",
       "      <th>length</th>\n",
       "      <th>one_interesting</th>\n",
       "    </tr>\n",
       "    <tr>\n",
       "      <th>stars</th>\n",
       "      <th></th>\n",
       "      <th></th>\n",
       "    </tr>\n",
       "  </thead>\n",
       "  <tbody>\n",
       "    <tr>\n",
       "      <th>1</th>\n",
       "      <td>761.024385</td>\n",
       "      <td>3.025968</td>\n",
       "    </tr>\n",
       "    <tr>\n",
       "      <th>2</th>\n",
       "      <td>770.407477</td>\n",
       "      <td>1.851869</td>\n",
       "    </tr>\n",
       "    <tr>\n",
       "      <th>3</th>\n",
       "      <td>723.055255</td>\n",
       "      <td>1.224659</td>\n",
       "    </tr>\n",
       "    <tr>\n",
       "      <th>4</th>\n",
       "      <td>637.746120</td>\n",
       "      <td>0.893512</td>\n",
       "    </tr>\n",
       "    <tr>\n",
       "      <th>5</th>\n",
       "      <td>500.699834</td>\n",
       "      <td>0.846372</td>\n",
       "    </tr>\n",
       "  </tbody>\n",
       "</table>\n",
       "</div>"
      ],
      "text/plain": [
       "           length  one_interesting\n",
       "stars                             \n",
       "1      761.024385         3.025968\n",
       "2      770.407477         1.851869\n",
       "3      723.055255         1.224659\n",
       "4      637.746120         0.893512\n",
       "5      500.699834         0.846372"
      ]
     },
     "execution_count": 25,
     "metadata": {},
     "output_type": "execute_result"
    }
   ],
   "source": [
    "train.groupby('stars').mean()"
   ]
  },
  {
   "cell_type": "code",
   "execution_count": 26,
   "metadata": {
    "collapsed": true
   },
   "outputs": [],
   "source": [
    "def two_interest(row):\n",
    "    text = row['text']\n",
    "    return len([word for word in tokenizer.tokenize(text) if word in two_interesting])\n",
    "\n",
    "train['two_interesting'] = train.apply(lambda row: two_interest(row), axis = 1)"
   ]
  },
  {
   "cell_type": "code",
   "execution_count": 27,
   "metadata": {},
   "outputs": [
    {
     "data": {
      "text/html": [
       "<div>\n",
       "<style scoped>\n",
       "    .dataframe tbody tr th:only-of-type {\n",
       "        vertical-align: middle;\n",
       "    }\n",
       "\n",
       "    .dataframe tbody tr th {\n",
       "        vertical-align: top;\n",
       "    }\n",
       "\n",
       "    .dataframe thead th {\n",
       "        text-align: right;\n",
       "    }\n",
       "</style>\n",
       "<table border=\"1\" class=\"dataframe\">\n",
       "  <thead>\n",
       "    <tr style=\"text-align: right;\">\n",
       "      <th></th>\n",
       "      <th>date</th>\n",
       "      <th>review_id</th>\n",
       "      <th>stars</th>\n",
       "      <th>text</th>\n",
       "      <th>user_id</th>\n",
       "      <th>length</th>\n",
       "      <th>one_interesting</th>\n",
       "      <th>two_interesting</th>\n",
       "    </tr>\n",
       "  </thead>\n",
       "  <tbody>\n",
       "    <tr>\n",
       "      <th>132541</th>\n",
       "      <td>2014-02-23</td>\n",
       "      <td>ZkQg-pHL-sAXvs76wYhlow</td>\n",
       "      <td>3</td>\n",
       "      <td>I had the crab rangoon, cashew chicken, fried ...</td>\n",
       "      <td>JaWyPlPiQajclZbaa19PDg</td>\n",
       "      <td>327</td>\n",
       "      <td>1</td>\n",
       "      <td>0</td>\n",
       "    </tr>\n",
       "    <tr>\n",
       "      <th>231497</th>\n",
       "      <td>2015-09-14</td>\n",
       "      <td>yu_MrtWfDNFzoE7PA8wWqQ</td>\n",
       "      <td>4</td>\n",
       "      <td>My husband and I recently used Ms internationa...</td>\n",
       "      <td>ociVXyUzlpNZmnSQGVTStw</td>\n",
       "      <td>483</td>\n",
       "      <td>0</td>\n",
       "      <td>0</td>\n",
       "    </tr>\n",
       "    <tr>\n",
       "      <th>43791</th>\n",
       "      <td>2015-11-21</td>\n",
       "      <td>TZegK6Ki_1sdjIffzn6wEQ</td>\n",
       "      <td>5</td>\n",
       "      <td>My husband and I have bought several items now...</td>\n",
       "      <td>Lszxpd9rv1JTuZ2pnxp5CA</td>\n",
       "      <td>743</td>\n",
       "      <td>1</td>\n",
       "      <td>0</td>\n",
       "    </tr>\n",
       "    <tr>\n",
       "      <th>16507</th>\n",
       "      <td>2015-09-18</td>\n",
       "      <td>WPwv259u3o5O9rdmL4f0bg</td>\n",
       "      <td>2</td>\n",
       "      <td>I only chose these guys because of the yelp re...</td>\n",
       "      <td>Rf41z3Cc3FGx5Ys3QQq2bw</td>\n",
       "      <td>1412</td>\n",
       "      <td>5</td>\n",
       "      <td>0</td>\n",
       "    </tr>\n",
       "    <tr>\n",
       "      <th>357253</th>\n",
       "      <td>2015-04-03</td>\n",
       "      <td>3i9THxwPxTvKfVgKFYBBzA</td>\n",
       "      <td>1</td>\n",
       "      <td>Don't go see this doctor. Seriously, find some...</td>\n",
       "      <td>o_d1YWq7qqQ2PSdofCMykw</td>\n",
       "      <td>233</td>\n",
       "      <td>1</td>\n",
       "      <td>0</td>\n",
       "    </tr>\n",
       "  </tbody>\n",
       "</table>\n",
       "</div>"
      ],
      "text/plain": [
       "              date               review_id  stars  \\\n",
       "132541  2014-02-23  ZkQg-pHL-sAXvs76wYhlow      3   \n",
       "231497  2015-09-14  yu_MrtWfDNFzoE7PA8wWqQ      4   \n",
       "43791   2015-11-21  TZegK6Ki_1sdjIffzn6wEQ      5   \n",
       "16507   2015-09-18  WPwv259u3o5O9rdmL4f0bg      2   \n",
       "357253  2015-04-03  3i9THxwPxTvKfVgKFYBBzA      1   \n",
       "\n",
       "                                                     text  \\\n",
       "132541  I had the crab rangoon, cashew chicken, fried ...   \n",
       "231497  My husband and I recently used Ms internationa...   \n",
       "43791   My husband and I have bought several items now...   \n",
       "16507   I only chose these guys because of the yelp re...   \n",
       "357253  Don't go see this doctor. Seriously, find some...   \n",
       "\n",
       "                       user_id  length  one_interesting  two_interesting  \n",
       "132541  JaWyPlPiQajclZbaa19PDg     327                1                0  \n",
       "231497  ociVXyUzlpNZmnSQGVTStw     483                0                0  \n",
       "43791   Lszxpd9rv1JTuZ2pnxp5CA     743                1                0  \n",
       "16507   Rf41z3Cc3FGx5Ys3QQq2bw    1412                5                0  \n",
       "357253  o_d1YWq7qqQ2PSdofCMykw     233                1                0  "
      ]
     },
     "execution_count": 27,
     "metadata": {},
     "output_type": "execute_result"
    }
   ],
   "source": [
    "train.head()"
   ]
  },
  {
   "cell_type": "code",
   "execution_count": 28,
   "metadata": {
    "collapsed": true
   },
   "outputs": [],
   "source": [
    "def three_interest(row):\n",
    "    text = row['text']\n",
    "    return len([word for word in tokenizer.tokenize(text) if word in three_interesting])\n",
    "\n",
    "train['three_interesting'] = train.apply(lambda row: three_interest(row), axis = 1)"
   ]
  },
  {
   "cell_type": "code",
   "execution_count": 29,
   "metadata": {
    "collapsed": true
   },
   "outputs": [],
   "source": [
    "def four_interest(row):\n",
    "    text = row['text']\n",
    "    return len([word for word in tokenizer.tokenize(text) if word in four_interesting])\n",
    "\n",
    "train['four_interesting'] = train.apply(lambda row: four_interest(row), axis = 1)"
   ]
  },
  {
   "cell_type": "code",
   "execution_count": 30,
   "metadata": {
    "collapsed": true
   },
   "outputs": [],
   "source": [
    "def five_interest(row):\n",
    "    text = row['text']\n",
    "    return len([word for word in tokenizer.tokenize(text) if word in five_interesting])\n",
    "\n",
    "train['five_interesting'] = train.apply(lambda row: five_interest(row), axis = 1)"
   ]
  },
  {
   "cell_type": "code",
   "execution_count": 31,
   "metadata": {},
   "outputs": [
    {
     "data": {
      "text/html": [
       "<div>\n",
       "<style scoped>\n",
       "    .dataframe tbody tr th:only-of-type {\n",
       "        vertical-align: middle;\n",
       "    }\n",
       "\n",
       "    .dataframe tbody tr th {\n",
       "        vertical-align: top;\n",
       "    }\n",
       "\n",
       "    .dataframe thead th {\n",
       "        text-align: right;\n",
       "    }\n",
       "</style>\n",
       "<table border=\"1\" class=\"dataframe\">\n",
       "  <thead>\n",
       "    <tr style=\"text-align: right;\">\n",
       "      <th></th>\n",
       "      <th>length</th>\n",
       "      <th>one_interesting</th>\n",
       "      <th>two_interesting</th>\n",
       "      <th>three_interesting</th>\n",
       "      <th>four_interesting</th>\n",
       "      <th>five_interesting</th>\n",
       "    </tr>\n",
       "    <tr>\n",
       "      <th>stars</th>\n",
       "      <th></th>\n",
       "      <th></th>\n",
       "      <th></th>\n",
       "      <th></th>\n",
       "      <th></th>\n",
       "      <th></th>\n",
       "    </tr>\n",
       "  </thead>\n",
       "  <tbody>\n",
       "    <tr>\n",
       "      <th>1</th>\n",
       "      <td>761.024385</td>\n",
       "      <td>3.025968</td>\n",
       "      <td>0.127887</td>\n",
       "      <td>0.064403</td>\n",
       "      <td>0.178846</td>\n",
       "      <td>0.681641</td>\n",
       "    </tr>\n",
       "    <tr>\n",
       "      <th>2</th>\n",
       "      <td>770.407477</td>\n",
       "      <td>1.851869</td>\n",
       "      <td>0.201310</td>\n",
       "      <td>0.105512</td>\n",
       "      <td>0.320579</td>\n",
       "      <td>0.610793</td>\n",
       "    </tr>\n",
       "    <tr>\n",
       "      <th>3</th>\n",
       "      <td>723.055255</td>\n",
       "      <td>1.224659</td>\n",
       "      <td>0.132159</td>\n",
       "      <td>0.123714</td>\n",
       "      <td>0.446950</td>\n",
       "      <td>0.575885</td>\n",
       "    </tr>\n",
       "    <tr>\n",
       "      <th>4</th>\n",
       "      <td>637.746120</td>\n",
       "      <td>0.893512</td>\n",
       "      <td>0.068884</td>\n",
       "      <td>0.055972</td>\n",
       "      <td>0.482650</td>\n",
       "      <td>0.692414</td>\n",
       "    </tr>\n",
       "    <tr>\n",
       "      <th>5</th>\n",
       "      <td>500.699834</td>\n",
       "      <td>0.846372</td>\n",
       "      <td>0.039937</td>\n",
       "      <td>0.030819</td>\n",
       "      <td>0.275321</td>\n",
       "      <td>0.979002</td>\n",
       "    </tr>\n",
       "  </tbody>\n",
       "</table>\n",
       "</div>"
      ],
      "text/plain": [
       "           length  one_interesting  two_interesting  three_interesting  \\\n",
       "stars                                                                    \n",
       "1      761.024385         3.025968         0.127887           0.064403   \n",
       "2      770.407477         1.851869         0.201310           0.105512   \n",
       "3      723.055255         1.224659         0.132159           0.123714   \n",
       "4      637.746120         0.893512         0.068884           0.055972   \n",
       "5      500.699834         0.846372         0.039937           0.030819   \n",
       "\n",
       "       four_interesting  five_interesting  \n",
       "stars                                      \n",
       "1              0.178846          0.681641  \n",
       "2              0.320579          0.610793  \n",
       "3              0.446950          0.575885  \n",
       "4              0.482650          0.692414  \n",
       "5              0.275321          0.979002  "
      ]
     },
     "execution_count": 31,
     "metadata": {},
     "output_type": "execute_result"
    }
   ],
   "source": [
    "train.groupby('stars').mean()"
   ]
  },
  {
   "cell_type": "markdown",
   "metadata": {},
   "source": [
    "So here we see that for each 'interesting' category, the words associated with each show up the most in the category in question. This is a useful sanity check. Unfortunately the data for the interesting two and three star words is very sparse, so I expect these features to not be nearly as impactful as those for one and five stars. \n",
    "\n",
    "## Punctuation marks\n",
    "\n",
    "I have a theory that bad reviews will have more occurences of ! and ? than other reviews. Or maybe it's the opposite. Let's investigate:"
   ]
  },
  {
   "cell_type": "code",
   "execution_count": 32,
   "metadata": {},
   "outputs": [
    {
     "data": {
      "text/html": [
       "<div>\n",
       "<style scoped>\n",
       "    .dataframe tbody tr th:only-of-type {\n",
       "        vertical-align: middle;\n",
       "    }\n",
       "\n",
       "    .dataframe tbody tr th {\n",
       "        vertical-align: top;\n",
       "    }\n",
       "\n",
       "    .dataframe thead th {\n",
       "        text-align: right;\n",
       "    }\n",
       "</style>\n",
       "<table border=\"1\" class=\"dataframe\">\n",
       "  <thead>\n",
       "    <tr style=\"text-align: right;\">\n",
       "      <th></th>\n",
       "      <th>length</th>\n",
       "      <th>one_interesting</th>\n",
       "      <th>two_interesting</th>\n",
       "      <th>three_interesting</th>\n",
       "      <th>four_interesting</th>\n",
       "      <th>five_interesting</th>\n",
       "      <th>punc</th>\n",
       "    </tr>\n",
       "    <tr>\n",
       "      <th>stars</th>\n",
       "      <th></th>\n",
       "      <th></th>\n",
       "      <th></th>\n",
       "      <th></th>\n",
       "      <th></th>\n",
       "      <th></th>\n",
       "      <th></th>\n",
       "    </tr>\n",
       "  </thead>\n",
       "  <tbody>\n",
       "    <tr>\n",
       "      <th>1</th>\n",
       "      <td>761.024385</td>\n",
       "      <td>3.025968</td>\n",
       "      <td>0.127887</td>\n",
       "      <td>0.064403</td>\n",
       "      <td>0.178846</td>\n",
       "      <td>0.681641</td>\n",
       "      <td>6.234984</td>\n",
       "    </tr>\n",
       "    <tr>\n",
       "      <th>2</th>\n",
       "      <td>770.407477</td>\n",
       "      <td>1.851869</td>\n",
       "      <td>0.201310</td>\n",
       "      <td>0.105512</td>\n",
       "      <td>0.320579</td>\n",
       "      <td>0.610793</td>\n",
       "      <td>5.619880</td>\n",
       "    </tr>\n",
       "    <tr>\n",
       "      <th>3</th>\n",
       "      <td>723.055255</td>\n",
       "      <td>1.224659</td>\n",
       "      <td>0.132159</td>\n",
       "      <td>0.123714</td>\n",
       "      <td>0.446950</td>\n",
       "      <td>0.575885</td>\n",
       "      <td>5.170589</td>\n",
       "    </tr>\n",
       "    <tr>\n",
       "      <th>4</th>\n",
       "      <td>637.746120</td>\n",
       "      <td>0.893512</td>\n",
       "      <td>0.068884</td>\n",
       "      <td>0.055972</td>\n",
       "      <td>0.482650</td>\n",
       "      <td>0.692414</td>\n",
       "      <td>4.807052</td>\n",
       "    </tr>\n",
       "    <tr>\n",
       "      <th>5</th>\n",
       "      <td>500.699834</td>\n",
       "      <td>0.846372</td>\n",
       "      <td>0.039937</td>\n",
       "      <td>0.030819</td>\n",
       "      <td>0.275321</td>\n",
       "      <td>0.979002</td>\n",
       "      <td>4.257926</td>\n",
       "    </tr>\n",
       "  </tbody>\n",
       "</table>\n",
       "</div>"
      ],
      "text/plain": [
       "           length  one_interesting  two_interesting  three_interesting  \\\n",
       "stars                                                                    \n",
       "1      761.024385         3.025968         0.127887           0.064403   \n",
       "2      770.407477         1.851869         0.201310           0.105512   \n",
       "3      723.055255         1.224659         0.132159           0.123714   \n",
       "4      637.746120         0.893512         0.068884           0.055972   \n",
       "5      500.699834         0.846372         0.039937           0.030819   \n",
       "\n",
       "       four_interesting  five_interesting      punc  \n",
       "stars                                                \n",
       "1              0.178846          0.681641  6.234984  \n",
       "2              0.320579          0.610793  5.619880  \n",
       "3              0.446950          0.575885  5.170589  \n",
       "4              0.482650          0.692414  4.807052  \n",
       "5              0.275321          0.979002  4.257926  "
      ]
     },
     "execution_count": 32,
     "metadata": {},
     "output_type": "execute_result"
    }
   ],
   "source": [
    "punctuation = '!\"#$%&\\'*+/<=>?@\\\\^_`{|}~'\n",
    "def punc(row):\n",
    "    text = row['text']\n",
    "    return sum([text.lower().count(char) for char in list(punctuation)])\n",
    "\n",
    "train['punc'] = train.apply(lambda row: punc(row), axis = 1)\n",
    "train.groupby('stars').mean()"
   ]
  },
  {
   "cell_type": "markdown",
   "metadata": {
    "collapsed": true
   },
   "source": [
    "So as I thought, the lower the stars of the review, the more punctuation is present. There seems to be perfect correlation here, so I think this is certainly a valuable feature to add to our training data. Over 6 punctuation marks per review seems like a lot to me.\n",
    "\n",
    "## Sentiment Analysis\n",
    "Let's try examining if there's any relationship between number of stars and perceived sentiment scores of the reviews. To find sentiment scores, we're using the _TextBlob_ module, which makes it incredibly easy to find basic sentiment statistics about a given piece of text."
   ]
  },
  {
   "cell_type": "code",
   "execution_count": 33,
   "metadata": {
    "collapsed": true
   },
   "outputs": [],
   "source": [
    "from textblob import TextBlob\n",
    "def sent(row):\n",
    "    text = row['text']\n",
    "    return TextBlob(text).sentiment.polarity\n",
    "train['sentiment'] = train.apply(lambda row: sent(row), axis = 1)"
   ]
  },
  {
   "cell_type": "code",
   "execution_count": 34,
   "metadata": {},
   "outputs": [
    {
     "data": {
      "text/html": [
       "<div>\n",
       "<style scoped>\n",
       "    .dataframe tbody tr th:only-of-type {\n",
       "        vertical-align: middle;\n",
       "    }\n",
       "\n",
       "    .dataframe tbody tr th {\n",
       "        vertical-align: top;\n",
       "    }\n",
       "\n",
       "    .dataframe thead th {\n",
       "        text-align: right;\n",
       "    }\n",
       "</style>\n",
       "<table border=\"1\" class=\"dataframe\">\n",
       "  <thead>\n",
       "    <tr style=\"text-align: right;\">\n",
       "      <th></th>\n",
       "      <th>length</th>\n",
       "      <th>one_interesting</th>\n",
       "      <th>two_interesting</th>\n",
       "      <th>three_interesting</th>\n",
       "      <th>four_interesting</th>\n",
       "      <th>five_interesting</th>\n",
       "      <th>punc</th>\n",
       "      <th>sentiment</th>\n",
       "    </tr>\n",
       "    <tr>\n",
       "      <th>stars</th>\n",
       "      <th></th>\n",
       "      <th></th>\n",
       "      <th></th>\n",
       "      <th></th>\n",
       "      <th></th>\n",
       "      <th></th>\n",
       "      <th></th>\n",
       "      <th></th>\n",
       "    </tr>\n",
       "  </thead>\n",
       "  <tbody>\n",
       "    <tr>\n",
       "      <th>1</th>\n",
       "      <td>761.024385</td>\n",
       "      <td>3.025968</td>\n",
       "      <td>0.127887</td>\n",
       "      <td>0.064403</td>\n",
       "      <td>0.178846</td>\n",
       "      <td>0.681641</td>\n",
       "      <td>6.234984</td>\n",
       "      <td>-0.039828</td>\n",
       "    </tr>\n",
       "    <tr>\n",
       "      <th>2</th>\n",
       "      <td>770.407477</td>\n",
       "      <td>1.851869</td>\n",
       "      <td>0.201310</td>\n",
       "      <td>0.105512</td>\n",
       "      <td>0.320579</td>\n",
       "      <td>0.610793</td>\n",
       "      <td>5.619880</td>\n",
       "      <td>0.074908</td>\n",
       "    </tr>\n",
       "    <tr>\n",
       "      <th>3</th>\n",
       "      <td>723.055255</td>\n",
       "      <td>1.224659</td>\n",
       "      <td>0.132159</td>\n",
       "      <td>0.123714</td>\n",
       "      <td>0.446950</td>\n",
       "      <td>0.575885</td>\n",
       "      <td>5.170589</td>\n",
       "      <td>0.180750</td>\n",
       "    </tr>\n",
       "    <tr>\n",
       "      <th>4</th>\n",
       "      <td>637.746120</td>\n",
       "      <td>0.893512</td>\n",
       "      <td>0.068884</td>\n",
       "      <td>0.055972</td>\n",
       "      <td>0.482650</td>\n",
       "      <td>0.692414</td>\n",
       "      <td>4.807052</td>\n",
       "      <td>0.277917</td>\n",
       "    </tr>\n",
       "    <tr>\n",
       "      <th>5</th>\n",
       "      <td>500.699834</td>\n",
       "      <td>0.846372</td>\n",
       "      <td>0.039937</td>\n",
       "      <td>0.030819</td>\n",
       "      <td>0.275321</td>\n",
       "      <td>0.979002</td>\n",
       "      <td>4.257926</td>\n",
       "      <td>0.352434</td>\n",
       "    </tr>\n",
       "  </tbody>\n",
       "</table>\n",
       "</div>"
      ],
      "text/plain": [
       "           length  one_interesting  two_interesting  three_interesting  \\\n",
       "stars                                                                    \n",
       "1      761.024385         3.025968         0.127887           0.064403   \n",
       "2      770.407477         1.851869         0.201310           0.105512   \n",
       "3      723.055255         1.224659         0.132159           0.123714   \n",
       "4      637.746120         0.893512         0.068884           0.055972   \n",
       "5      500.699834         0.846372         0.039937           0.030819   \n",
       "\n",
       "       four_interesting  five_interesting      punc  sentiment  \n",
       "stars                                                           \n",
       "1              0.178846          0.681641  6.234984  -0.039828  \n",
       "2              0.320579          0.610793  5.619880   0.074908  \n",
       "3              0.446950          0.575885  5.170589   0.180750  \n",
       "4              0.482650          0.692414  4.807052   0.277917  \n",
       "5              0.275321          0.979002  4.257926   0.352434  "
      ]
     },
     "execution_count": 34,
     "metadata": {},
     "output_type": "execute_result"
    }
   ],
   "source": [
    "train.groupby('stars').mean()"
   ]
  },
  {
   "cell_type": "markdown",
   "metadata": {},
   "source": [
    "Again we have results which line up with what we expected here. There certainly seems to be a correlation between number of stars and the sentiment score, but the difference between the 1 star and 5 star reviews is not as extreme as I had hoped for. Regardless, I think this feature is worth including.\n",
    "\n",
    "### Subjectivity\n",
    "_TextBlob_ also allows us to find the subjectivity score for a piece of text. Let's see what happens."
   ]
  },
  {
   "cell_type": "code",
   "execution_count": 35,
   "metadata": {
    "collapsed": true
   },
   "outputs": [],
   "source": [
    "def subj(row):\n",
    "    text = row['text']\n",
    "    return TextBlob(text).sentiment.subjectivity\n",
    "train['subjectivity'] = train.apply(lambda row: subj(row), axis = 1)"
   ]
  },
  {
   "cell_type": "code",
   "execution_count": 36,
   "metadata": {},
   "outputs": [
    {
     "data": {
      "text/html": [
       "<div>\n",
       "<style scoped>\n",
       "    .dataframe tbody tr th:only-of-type {\n",
       "        vertical-align: middle;\n",
       "    }\n",
       "\n",
       "    .dataframe tbody tr th {\n",
       "        vertical-align: top;\n",
       "    }\n",
       "\n",
       "    .dataframe thead th {\n",
       "        text-align: right;\n",
       "    }\n",
       "</style>\n",
       "<table border=\"1\" class=\"dataframe\">\n",
       "  <thead>\n",
       "    <tr style=\"text-align: right;\">\n",
       "      <th></th>\n",
       "      <th>length</th>\n",
       "      <th>one_interesting</th>\n",
       "      <th>two_interesting</th>\n",
       "      <th>three_interesting</th>\n",
       "      <th>four_interesting</th>\n",
       "      <th>five_interesting</th>\n",
       "      <th>punc</th>\n",
       "      <th>sentiment</th>\n",
       "      <th>subjectivity</th>\n",
       "    </tr>\n",
       "    <tr>\n",
       "      <th>stars</th>\n",
       "      <th></th>\n",
       "      <th></th>\n",
       "      <th></th>\n",
       "      <th></th>\n",
       "      <th></th>\n",
       "      <th></th>\n",
       "      <th></th>\n",
       "      <th></th>\n",
       "      <th></th>\n",
       "    </tr>\n",
       "  </thead>\n",
       "  <tbody>\n",
       "    <tr>\n",
       "      <th>1</th>\n",
       "      <td>761.024385</td>\n",
       "      <td>3.025968</td>\n",
       "      <td>0.127887</td>\n",
       "      <td>0.064403</td>\n",
       "      <td>0.178846</td>\n",
       "      <td>0.681641</td>\n",
       "      <td>6.234984</td>\n",
       "      <td>-0.039828</td>\n",
       "      <td>0.511056</td>\n",
       "    </tr>\n",
       "    <tr>\n",
       "      <th>2</th>\n",
       "      <td>770.407477</td>\n",
       "      <td>1.851869</td>\n",
       "      <td>0.201310</td>\n",
       "      <td>0.105512</td>\n",
       "      <td>0.320579</td>\n",
       "      <td>0.610793</td>\n",
       "      <td>5.619880</td>\n",
       "      <td>0.074908</td>\n",
       "      <td>0.526579</td>\n",
       "    </tr>\n",
       "    <tr>\n",
       "      <th>3</th>\n",
       "      <td>723.055255</td>\n",
       "      <td>1.224659</td>\n",
       "      <td>0.132159</td>\n",
       "      <td>0.123714</td>\n",
       "      <td>0.446950</td>\n",
       "      <td>0.575885</td>\n",
       "      <td>5.170589</td>\n",
       "      <td>0.180750</td>\n",
       "      <td>0.538429</td>\n",
       "    </tr>\n",
       "    <tr>\n",
       "      <th>4</th>\n",
       "      <td>637.746120</td>\n",
       "      <td>0.893512</td>\n",
       "      <td>0.068884</td>\n",
       "      <td>0.055972</td>\n",
       "      <td>0.482650</td>\n",
       "      <td>0.692414</td>\n",
       "      <td>4.807052</td>\n",
       "      <td>0.277917</td>\n",
       "      <td>0.563593</td>\n",
       "    </tr>\n",
       "    <tr>\n",
       "      <th>5</th>\n",
       "      <td>500.699834</td>\n",
       "      <td>0.846372</td>\n",
       "      <td>0.039937</td>\n",
       "      <td>0.030819</td>\n",
       "      <td>0.275321</td>\n",
       "      <td>0.979002</td>\n",
       "      <td>4.257926</td>\n",
       "      <td>0.352434</td>\n",
       "      <td>0.579423</td>\n",
       "    </tr>\n",
       "  </tbody>\n",
       "</table>\n",
       "</div>"
      ],
      "text/plain": [
       "           length  one_interesting  two_interesting  three_interesting  \\\n",
       "stars                                                                    \n",
       "1      761.024385         3.025968         0.127887           0.064403   \n",
       "2      770.407477         1.851869         0.201310           0.105512   \n",
       "3      723.055255         1.224659         0.132159           0.123714   \n",
       "4      637.746120         0.893512         0.068884           0.055972   \n",
       "5      500.699834         0.846372         0.039937           0.030819   \n",
       "\n",
       "       four_interesting  five_interesting      punc  sentiment  subjectivity  \n",
       "stars                                                                         \n",
       "1              0.178846          0.681641  6.234984  -0.039828      0.511056  \n",
       "2              0.320579          0.610793  5.619880   0.074908      0.526579  \n",
       "3              0.446950          0.575885  5.170589   0.180750      0.538429  \n",
       "4              0.482650          0.692414  4.807052   0.277917      0.563593  \n",
       "5              0.275321          0.979002  4.257926   0.352434      0.579423  "
      ]
     },
     "execution_count": 36,
     "metadata": {},
     "output_type": "execute_result"
    }
   ],
   "source": [
    "train.groupby('stars').mean()"
   ]
  },
  {
   "cell_type": "code",
   "execution_count": 37,
   "metadata": {},
   "outputs": [
    {
     "data": {
      "text/plain": [
       "Index(['date', 'review_id', 'stars', 'text', 'user_id', 'length',\n",
       "       'one_interesting', 'two_interesting', 'three_interesting',\n",
       "       'four_interesting', 'five_interesting', 'punc', 'sentiment',\n",
       "       'subjectivity'],\n",
       "      dtype='object')"
      ]
     },
     "execution_count": 37,
     "metadata": {},
     "output_type": "execute_result"
    }
   ],
   "source": [
    "train.keys()"
   ]
  },
  {
   "cell_type": "markdown",
   "metadata": {},
   "source": [
    "We have another data point which correlates well with the star rating. This has even less variation, but perhaps after normalizing this will give us a boost in performance by including it.\n",
    "\n",
    "## Clean up the data\n",
    "\n",
    "Let's get rid of the categorical data to get ready for scikit-learn methods. Also\n",
    "to avoid having to create all this data again, pickle it for later use.\n"
   ]
  },
  {
   "cell_type": "code",
   "execution_count": 38,
   "metadata": {
    "collapsed": true
   },
   "outputs": [],
   "source": [
    "del train['date']\n",
    "del train['review_id']\n",
    "del train['text']\n",
    "del train['user_id']\n"
   ]
  },
  {
   "cell_type": "code",
   "execution_count": 40,
   "metadata": {},
   "outputs": [
    {
     "data": {
      "text/html": [
       "<div>\n",
       "<style scoped>\n",
       "    .dataframe tbody tr th:only-of-type {\n",
       "        vertical-align: middle;\n",
       "    }\n",
       "\n",
       "    .dataframe tbody tr th {\n",
       "        vertical-align: top;\n",
       "    }\n",
       "\n",
       "    .dataframe thead th {\n",
       "        text-align: right;\n",
       "    }\n",
       "</style>\n",
       "<table border=\"1\" class=\"dataframe\">\n",
       "  <thead>\n",
       "    <tr style=\"text-align: right;\">\n",
       "      <th></th>\n",
       "      <th>stars</th>\n",
       "      <th>length</th>\n",
       "      <th>one_interesting</th>\n",
       "      <th>two_interesting</th>\n",
       "      <th>three_interesting</th>\n",
       "      <th>four_interesting</th>\n",
       "      <th>five_interesting</th>\n",
       "      <th>punc</th>\n",
       "      <th>sentiment</th>\n",
       "      <th>subjectivity</th>\n",
       "    </tr>\n",
       "  </thead>\n",
       "  <tbody>\n",
       "    <tr>\n",
       "      <th>132541</th>\n",
       "      <td>3</td>\n",
       "      <td>327</td>\n",
       "      <td>1</td>\n",
       "      <td>0</td>\n",
       "      <td>0</td>\n",
       "      <td>0</td>\n",
       "      <td>0</td>\n",
       "      <td>5</td>\n",
       "      <td>0.307500</td>\n",
       "      <td>0.523750</td>\n",
       "    </tr>\n",
       "    <tr>\n",
       "      <th>231497</th>\n",
       "      <td>4</td>\n",
       "      <td>483</td>\n",
       "      <td>0</td>\n",
       "      <td>0</td>\n",
       "      <td>0</td>\n",
       "      <td>0</td>\n",
       "      <td>1</td>\n",
       "      <td>0</td>\n",
       "      <td>0.205510</td>\n",
       "      <td>0.353375</td>\n",
       "    </tr>\n",
       "    <tr>\n",
       "      <th>43791</th>\n",
       "      <td>5</td>\n",
       "      <td>743</td>\n",
       "      <td>1</td>\n",
       "      <td>0</td>\n",
       "      <td>0</td>\n",
       "      <td>0</td>\n",
       "      <td>3</td>\n",
       "      <td>11</td>\n",
       "      <td>0.259984</td>\n",
       "      <td>0.366984</td>\n",
       "    </tr>\n",
       "    <tr>\n",
       "      <th>16507</th>\n",
       "      <td>2</td>\n",
       "      <td>1412</td>\n",
       "      <td>5</td>\n",
       "      <td>0</td>\n",
       "      <td>0</td>\n",
       "      <td>0</td>\n",
       "      <td>9</td>\n",
       "      <td>21</td>\n",
       "      <td>0.068792</td>\n",
       "      <td>0.464641</td>\n",
       "    </tr>\n",
       "    <tr>\n",
       "      <th>357253</th>\n",
       "      <td>1</td>\n",
       "      <td>233</td>\n",
       "      <td>1</td>\n",
       "      <td>0</td>\n",
       "      <td>0</td>\n",
       "      <td>0</td>\n",
       "      <td>0</td>\n",
       "      <td>3</td>\n",
       "      <td>0.105556</td>\n",
       "      <td>0.544444</td>\n",
       "    </tr>\n",
       "  </tbody>\n",
       "</table>\n",
       "</div>"
      ],
      "text/plain": [
       "        stars  length  one_interesting  two_interesting  three_interesting  \\\n",
       "132541      3     327                1                0                  0   \n",
       "231497      4     483                0                0                  0   \n",
       "43791       5     743                1                0                  0   \n",
       "16507       2    1412                5                0                  0   \n",
       "357253      1     233                1                0                  0   \n",
       "\n",
       "        four_interesting  five_interesting  punc  sentiment  subjectivity  \n",
       "132541                 0                 0     5   0.307500      0.523750  \n",
       "231497                 0                 1     0   0.205510      0.353375  \n",
       "43791                  0                 3    11   0.259984      0.366984  \n",
       "16507                  0                 9    21   0.068792      0.464641  \n",
       "357253                 0                 0     3   0.105556      0.544444  "
      ]
     },
     "execution_count": 40,
     "metadata": {},
     "output_type": "execute_result"
    }
   ],
   "source": [
    "train.head()"
   ]
  },
  {
   "cell_type": "code",
   "execution_count": 41,
   "metadata": {
    "collapsed": true
   },
   "outputs": [],
   "source": [
    "train.to_pickle('train.pkl')"
   ]
  },
  {
   "cell_type": "code",
   "execution_count": null,
   "metadata": {
    "collapsed": true
   },
   "outputs": [],
   "source": []
  }
 ],
 "metadata": {
  "kernelspec": {
   "display_name": "Python 3",
   "language": "python",
   "name": "python3"
  },
  "language_info": {
   "codemirror_mode": {
    "name": "ipython",
    "version": 3
   },
   "file_extension": ".py",
   "mimetype": "text/x-python",
   "name": "python",
   "nbconvert_exporter": "python",
   "pygments_lexer": "ipython3",
   "version": "3.6.1"
  }
 },
 "nbformat": 4,
 "nbformat_minor": 2
}
